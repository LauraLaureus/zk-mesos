{
 "cells": [
  {
   "cell_type": "markdown",
   "metadata": {},
   "source": [
    "# Apache Mesos HTTP API\n",
    "\n",
    "This notebook will show how to connect to a running Master/Slave and launch commands via a simple `CommandInfo` protocol buffer.\n",
    "\n",
    "The main goal of this notebook is to show how to interact with the new [Mesos HTTP API](https://github.com/apache/mesos/blob/master/docs/scheduler_http_api.md) in Python.\n",
    "\n",
    "## Prerequisites\n",
    "\n",
    "- you have RTFM (link above);\n",
    "- you know how to build/run Apache Mesos locally (see the [Starting Guide](http://mesos.apache.org/gettingstarted/))\n",
    "- you are familiar with Python [Requests](http://www.python-requests.org/en/latest/) framework.\n",
    "\n",
    "## Starting Mesos\n",
    "\n",
    "Nothing unusal here, start ZooKeeper (`zkServer.sh start`) then start Master/Slave:\n",
    "```\n",
    "cd /path/to/mesos/build\n",
    "make -j 4 V=0\n",
    "\n",
    "# Optional, but recommended:\n",
    "make -j 4 V=0 check\n",
    "\n",
    "# If all tests pass:\n",
    "./bin/mesos-master.sh --zk=zk://localhost:2181/mesos/test --work_dir=/tmp/mesos-24 --quorum=1 --port=5051           \n",
    "\n",
    ".... lots of logging here\n",
    "\n",
    "# In another shell:\n",
    "./bin/mesos-slave.sh --master=zk://localhost:2181/mesos/test --work_dir=/tmp/slave --port=5055\n",
    "```\n",
    "\n",
    "Then navigate to the [Mesos Web UI](http://localhost:5051) and make sure all it's working just fine.\n",
    "\n",
    "If the above doesn't work, it's unlikely that anything in the following ever will.\n",
    "\n",
    "## Python Virtualenv\n",
    "\n",
    "I always strongly recommend that folks use virtual environments when messing around with Python and installing libraries - feel free to skip this, but if you end up borking your system... **you have been warned**.\n",
    "\n",
    "See the `requirements.txt` in this repo.\n",
    "\n",
    "My actual `dev` virtualenv has a lot more stuff, but the above should be sufficient to get you going (and probably need strictly even less than that - YMMV); most of the dependencies above are for IPython Notebooks.\n",
    "\n",
    "```\n",
    "mkvirtualenv dev\n",
    "pip install -r requirements.txt\n",
    "ipython notebook\n",
    "```\n",
    "Then load this file in your Notebook.\n",
    "\n",
    "Happy hacking!"
   ]
  },
  {
   "cell_type": "markdown",
   "metadata": {},
   "source": [
    "\n",
    "# Common Imports & Useful globals"
   ]
  },
  {
   "cell_type": "code",
   "execution_count": 1,
   "metadata": {
    "collapsed": false
   },
   "outputs": [],
   "source": [
    "# We need to use the magic function %px on every engine when we run in Cluster mode.\n",
    "# See below the note about executing multi-threaded code.\n",
    "from __future__ import print_function\n",
    "\n",
    "import json\n",
    "import os\n",
    "import pprint\n",
    "import requests\n",
    "import sh\n",
    "from threading import Thread\n",
    "from time import sleep, time\n",
    "\n",
    "\n",
    "SUBSCRIBE_BODY = {\n",
    "    \"type\": \"SUBSCRIBE\",\n",
    "    \"subscribe\": {\n",
    "        \"framework_info\": {\n",
    "            \"user\" :  \"vagrant\",\n",
    "            \"name\" :  \"Example HTTP Framework\"\n",
    "        },\n",
    "        \"force\" : True\n",
    "    }\n",
    "}\n",
    "\n",
    "TEARDOWN_BODY = {\n",
    "    \"framework_id\": {\n",
    "        \"value\" : None\n",
    "    },\n",
    "    \"type\": \"TEARDOWN\"\n",
    "}\n",
    "\n",
    "# Adjust the ports according to how you launched Mesos:\n",
    "# see --port in the commands in \"Prerequisites\"\n",
    "MASTER_URL = 'http://192.168.33.10:5050'\n",
    "SLAVE_URL = 'http://192.168.33.11:5051'\n",
    "API_V1 = '/api/v1/scheduler'\n",
    "API_URL = '{}/{}'.format(MASTER_URL, API_V1)\n",
    "CONTENT = 'application/json'\n",
    "\n",
    "headers = {\n",
    "    \"Content-Type\": CONTENT, \n",
    "    \"Accept\": CONTENT, \n",
    "    \"Connection\": \"close\"\n",
    "}\n",
    "\n",
    "pretty = pprint.PrettyPrinter(indent=2)"
   ]
  },
  {
   "cell_type": "markdown",
   "metadata": {},
   "source": [
    "These are the globals that are used to communicate with the background thread; they are currently **thread-unsafe** and may (or may not - chances of a race are pretty slim here) need to be protected with a `RLock`"
   ]
  },
  {
   "cell_type": "code",
   "execution_count": 2,
   "metadata": {
    "collapsed": true
   },
   "outputs": [],
   "source": [
    "# TODO: THIS IS THREAD-UNSAFE\n",
    "terminate = False\n",
    "offers = []\n",
    "framework_id = None"
   ]
  },
  {
   "cell_type": "markdown",
   "metadata": {},
   "source": [
    "## POST helper method\n",
    "\n",
    "This uses [Request's streaming API](http://www.python-requests.org/en/latest/user/advanced/#chunk-encoded-requests) for the \"chunk-encoded response\"."
   ]
  },
  {
   "cell_type": "code",
   "execution_count": 3,
   "metadata": {
    "collapsed": true
   },
   "outputs": [],
   "source": [
    "def post(url, body, **kwargs):\n",
    "    print('Connecting to Master: ' + url)\n",
    "    r = requests.post(url, headers=headers, data=json.dumps(body), **kwargs)\n",
    "    \n",
    "    if r.status_code not in [200, 202]:\n",
    "        raise ValueError(\"Error sending request: {} - {}\".format(r.status_code, r.text))\n",
    "    if 'stream' in kwargs:\n",
    "        # The streaming format needs some munging:\n",
    "        first_line = True\n",
    "        for line in r.iter_lines():\n",
    "            if first_line:\n",
    "                count_bytes = int(line)\n",
    "                first_line = False\n",
    "                continue\n",
    "            body = json.loads(line[:count_bytes])\n",
    "            count_bytes = int(line[count_bytes:])\n",
    "            if body.get(\"type\") == \"HEARTBEAT\":\n",
    "                continue\n",
    "            # When we get OFFERS we want to see them (and eventually, use them)\n",
    "            if body.get(\"type\") == \"OFFERS\":\n",
    "                global offers\n",
    "                offers = body.get(\"offers\")\n",
    "            # We need to capture the framework_id to use in subsequent requests.\n",
    "            if body.get(\"type\") == \"SUBSCRIBED\":\n",
    "                global framework_id\n",
    "                framework_id = body.get(\"subscribed\").get(\"framework_id\").get(\"value\")\n",
    "                if framework_id:\n",
    "                    print(\"Framework {} registered with Master at ({})\".format(framework_id, url))\n",
    "            if terminate:\n",
    "                return\n",
    "    return r"
   ]
  },
  {
   "cell_type": "markdown",
   "metadata": {},
   "source": [
    "## Warm up\n",
    "\n",
    "The following code just checks that there is connectivity and the settings are all correct: do not move forward until this run successfully."
   ]
  },
  {
   "cell_type": "code",
   "execution_count": 4,
   "metadata": {
    "collapsed": false
   },
   "outputs": [
    {
     "name": "stdout",
     "output_type": "stream",
     "text": [
      "Mesos version running at 0.24.0\n"
     ]
    }
   ],
   "source": [
    "r = requests.get(\"{}/state.json\".format(MASTER_URL))\n",
    "master_state = r.json()\n",
    "print(\"Mesos version running at {}\".format(master_state[\"version\"]))\n",
    "\n",
    "r = requests.get(\"{}/state.json\".format(SLAVE_URL))\n",
    "slave_state = r.json()\n",
    "\n",
    "# If this is not true, you're in for a world of hurt:\n",
    "assert master_state[\"version\"] == slave_state[\"version\"]\n",
    "\n",
    "def get_framework(index=None, id=None):\n",
    "    if index and id:\n",
    "        raise ValueError(\"Cannot specify both ID and Index\")\n",
    "    r = requests.get(\"{}/state.json\".format(MASTER_URL))\n",
    "    master_state = r.json()\n",
    "    frameworks = master_state.get(\"frameworks\")\n",
    "    if frameworks and isinstance(frameworks, list):\n",
    "        if index is not None and len(frameworks) > index:\n",
    "            return frameworks[index]\n",
    "        elif id:\n",
    "            for framework in frameworks:\n",
    "                if framework.get(\"id\") == id:\n",
    "                    return framework\n",
    "\n",
    "# And right now there ought to be no frameworks:\n",
    "assert get_framework(index=0) is None"
   ]
  },
  {
   "cell_type": "markdown",
   "metadata": {},
   "source": [
    "# Registering a Framework\n",
    "\n",
    "Using the HTTP API requires to run at least two separate threads: one for the \"incoming\" Master messages **to** the Framework (the HTTP connection we opened with the initial `SUBSCRIBE` `POST`) and another **from** the Framework to the Master to actual convey our requests (eg, accepting `OFFER`s).\n",
    "\n",
    "We will be using the `threading` module, as this is I/O-bound and there is no CPU contention; we will run a background thread (`persistent_channel`) to receive messages from Mesos, and will use the main thread to send `requests` to Master.\n",
    "\n",
    "The code in this Notebook **is not thread-safe**; in particular, we don't use any form of locking, as there is no real concern about races over shared data: in real production code, one should obviously protect shared data with suitable `locks` (see the [Python Multithreading documentation](https://docs.python.org/3/library/threading.html) for more details)."
   ]
  },
  {
   "cell_type": "code",
   "execution_count": 5,
   "metadata": {
    "collapsed": false
   },
   "outputs": [
    {
     "name": "stdout",
     "output_type": "stream",
     "text": [
      "Connecting to Master: http://192.168.33.10:5050//api/v1/scheduler\n",
      "The background channel was started to http://192.168.33.10:5050//api/v1/scheduler\n"
     ]
    }
   ],
   "source": [
    "try:\n",
    "    kwargs = {'stream':True, 'timeout':30}\n",
    "    persistent_channel = Thread(target=post, args=(API_URL, SUBSCRIBE_BODY), kwargs=kwargs)\n",
    "    persistent_channel.daemon = True\n",
    "    persistent_channel.start()\n",
    "    print(\"The background channel was started to {}\".format(API_URL))\n",
    "except Exception, ex:\n",
    "    print(\"An error occurred: {}\".format(ex))"
   ]
  },
  {
   "cell_type": "markdown",
   "metadata": {},
   "source": [
    "# Terminating a Framework\n",
    "\n",
    "The request above will keep running forever (but see [Terminating the Request](#terminating) below) until we tear down the framework we just started:"
   ]
  },
  {
   "cell_type": "code",
   "execution_count": 6,
   "metadata": {
    "collapsed": false
   },
   "outputs": [
    {
     "name": "stdout",
     "output_type": "stream",
     "text": [
      "Framework 20150924-064256-169978048-5050-2099-0000 registered with Master at (http://192.168.33.10:5050//api/v1/scheduler)\n"
     ]
    }
   ],
   "source": [
    "def terminate_framework(fid=None):\n",
    "    if not fid:\n",
    "        framework = get_framework(0)\n",
    "        if framework:\n",
    "            fid = framework['id']\n",
    "        else:\n",
    "            print(\"No frameworks to terminate\")\n",
    "    body = TEARDOWN_BODY\n",
    "    body['framework_id']['value'] = fid\n",
    "    post(API_URL, body)"
   ]
  },
  {
   "cell_type": "markdown",
   "metadata": {},
   "source": [
    "## <a name=\"terminating\"></a>Terminating the Request\n",
    "\n",
    "The following is a \"best effort\" to close the running background thread that keeps the connection with Master alive: this actually only works if the Master keeps sending HEARTBEAT messages (so, on the next loop iteration `terminate` gets checked).\n",
    "\n",
    "In theory, the `timeout` passed at start should prevent the thread to become unresponsive if no more messages are processed, but this does not necessarily seem to always be the case.\n",
    "\n",
    "If all else fails, restarting the IPython kernel seems to be the only (unsatisfactory) solution."
   ]
  },
  {
   "cell_type": "code",
   "execution_count": 7,
   "metadata": {
    "collapsed": true
   },
   "outputs": [],
   "source": [
    "def close_channel():\n",
    "    if persistent_channel.is_alive():\n",
    "        terminate = True\n",
    "        \n",
    "    framework_id = None\n",
    "    offers = None\n",
    "        \n",
    "    # Wait a bit...\n",
    "    sleep(5)\n",
    "    print(\"Channel was closed: {}\".format(persistent_channel.is_alive()))"
   ]
  },
  {
   "cell_type": "code",
   "execution_count": 8,
   "metadata": {
    "collapsed": false
   },
   "outputs": [],
   "source": [
    "# To close the incoming channel use the following code;\n",
    "# this will also terminate the framework (if still running).\n",
    "\n",
    "# NOTE: Commented out to avoid accidental execution\n",
    "#terminate_framework(fid=framework_id)\n",
    "#close_channel()\n",
    "\n",
    "pass"
   ]
  },
  {
   "cell_type": "markdown",
   "metadata": {},
   "source": [
    "# Accepting Offers for Resources\n",
    "\n",
    "We need a tiny amount of resources (0.1 CPU, 32 MB of RAM) to run a simple command on the Slave.\n",
    "\n",
    "## Wait for Offers\n",
    "\n",
    "We need to wait first for the framework to register, then to get resource offers:"
   ]
  },
  {
   "cell_type": "code",
   "execution_count": 9,
   "metadata": {
    "collapsed": false
   },
   "outputs": [
    {
     "name": "stdout",
     "output_type": "stream",
     "text": [
      "Registered a Framework with ID: 20150924-064256-169978048-5050-2099-0000\n",
      "Waiting for offers...\n",
      "Got offers:\n",
      "{ u'offers': [ { u'agent_id': { u'value': u'20150924-064256-169978048-5050-2099-S0'},\n",
      "                 u'framework_id': { u'value': u'20150924-064256-169978048-5050-2099-0000'},\n",
      "                 u'hostname': u'mesos-agent',\n",
      "                 u'id': { u'value': u'20150924-064256-169978048-5050-2099-O0'},\n",
      "                 u'resources': [ { u'name': u'cpus',\n",
      "                                   u'role': u'*',\n",
      "                                   u'scalar': { u'value': 1},\n",
      "                                   u'type': u'SCALAR'},\n",
      "                                 { u'name': u'mem',\n",
      "                                   u'role': u'*',\n",
      "                                   u'scalar': { u'value': 244},\n",
      "                                   u'type': u'SCALAR'},\n",
      "                                 { u'name': u'disk',\n",
      "                                   u'role': u'*',\n",
      "                                   u'scalar': { u'value': 35164},\n",
      "                                   u'type': u'SCALAR'},\n",
      "                                 { u'name': u'ports',\n",
      "                                   u'ranges': { u'range': [ { u'begin': 31000,\n",
      "                                                              u'end': 32000}]},\n",
      "                                   u'role': u'*',\n",
      "                                   u'type': u'RANGES'}],\n",
      "                 u'url': { u'address': { u'hostname': u'mesos-agent',\n",
      "                                         u'ip': u'192.168.33.11',\n",
      "                                         u'port': 5051},\n",
      "                           u'path': u'/slave(1)',\n",
      "                           u'scheme': u'http'}}]}\n"
     ]
    }
   ],
   "source": [
    "# This code is safe to execute any number of times; it will only try to connect once.\n",
    "# In other words, it's idempotent:\n",
    "\n",
    "count = 0\n",
    "while not framework_id and count < 10:\n",
    "    sleep(3)\n",
    "    print('.', end=\"\")\n",
    "    count += 1\n",
    "    \n",
    "if not framework_id:\n",
    "    print(\"Failed to register, terminating Framework\")\n",
    "    close_channel()\n",
    "else:\n",
    "    print(\"Registered a Framework with ID: {}\".format(framework_id))\n",
    "\n",
    "    print(\"Waiting for offers...\")\n",
    "\n",
    "    count = 0\n",
    "    while not offers and count < 10:\n",
    "        print('.', end=\"\")\n",
    "        sleep(3)\n",
    "        count += 1\n",
    "        \n",
    "    if not offers:\n",
    "        print(\"Failed to obtain resources, terminating Framework\")\n",
    "        terminate_framework(framework_id)\n",
    "        close_channel()\n",
    "    else:\n",
    "        print(\"Got offers:\")\n",
    "        pretty.pprint(offers)"
   ]
  },
  {
   "cell_type": "markdown",
   "metadata": {},
   "source": [
    "## Launch a Task using the given offers\n",
    "\n",
    "We will use a `CommandInfo` protobuf, embedded inside the `Launch` message - you can find them in \n",
    "[`mesos.proto`](https://github.com/apache/mesos/blob/master/include/mesos/v1/mesos.proto#L260) while the full request body will be an [Accept](https://github.com/apache/mesos/blob/master/include/mesos/v1/scheduler/scheduler.proto#L228) message.\n",
    "\n",
    "The following is a simplified version of the `Accept` JSON:"
   ]
  },
  {
   "cell_type": "code",
   "execution_count": 10,
   "metadata": {
    "collapsed": false
   },
   "outputs": [
    {
     "name": "stdout",
     "output_type": "stream",
     "text": [
      "Connecting to Master: http://192.168.33.10:5050//api/v1/scheduler\n",
      "Result: 202\n"
     ]
    }
   ],
   "source": [
    "import time\n",
    "\n",
    "TASK_RESOURCES = [\n",
    "    {   \n",
    "        'name': 'cpus',\n",
    "        'role': '*',\n",
    "        'scalar': {'value': 0.5},\n",
    "        'type': u'SCALAR'\n",
    "    },\n",
    "    {\n",
    "        'name': u'mem',\n",
    "        'role': u'*',\n",
    "        'scalar': {'value': 240},\n",
    "        'type': u'SCALAR'\n",
    "    }\n",
    "]\n",
    "\n",
    "LAUNCH_BODY = {\n",
    "    \"framework_id\": {\n",
    "        \"value\": None\n",
    "    },\n",
    "    \"type\": \"ACCEPT\",\n",
    "    \"accept\": {\n",
    "        \"offer_ids\": [\n",
    "        ],\n",
    "        \"operations\": [\n",
    "            {\n",
    "                \"type\": \"LAUNCH\",\n",
    "                \"launch\": {\n",
    "                    \"task_infos\": [\n",
    "                        {\n",
    "                            \"task_id\": {\"value\": str(int(time.time()))},\n",
    "                            \"agent_id\": {\"value\": None},\n",
    "                            \"name\": \"Launch Simple HTTP Server\",\n",
    "                            \"command\": {\n",
    "                                \"shell\": True,\n",
    "                                \"value\": None\n",
    "                            },\n",
    "                            \"resources\": TASK_RESOURCES\n",
    "                        }\n",
    "                    ]\n",
    "                }\n",
    "            }\n",
    "        ]\n",
    "    }\n",
    "}\n",
    "\n",
    "LAUNCH_BODY[\"accept\"][\"offer_ids\"].append(offers.get('offers')[0]['id'])\n",
    "LAUNCH_BODY[\"framework_id\"][\"value\"] = framework_id\n",
    "LAUNCH_BODY[\"accept\"][\"operations\"][0][\"launch\"][\"task_infos\"][0][\"command\"][\"value\"] = \\\n",
    "    \"cd /var/local/www && /usr/bin/python -m SimpleHTTPServer 9000\"\n",
    "LAUNCH_BODY[\"accept\"][\"operations\"][0][\"launch\"][\"task_infos\"][0][\"agent_id\"][\"value\"] = \\\n",
    "    offers.get('offers')[0]['agent_id']['value']\n",
    "    \n",
    "try:\n",
    "    r = post(API_URL, LAUNCH_BODY)\n",
    "    print(\"Result: {}\".format(r.status_code))\n",
    "    if r.text:\n",
    "        print(r.text)\n",
    "except ValueError, err:\n",
    "    print(\"Request failed: {}\".format(err))"
   ]
  },
  {
   "cell_type": "code",
   "execution_count": null,
   "metadata": {
    "collapsed": true
   },
   "outputs": [],
   "source": []
  }
 ],
 "metadata": {
  "kernelspec": {
   "display_name": "Python 2",
   "language": "python",
   "name": "python2"
  },
  "language_info": {
   "codemirror_mode": {
    "name": "ipython",
    "version": 2
   },
   "file_extension": ".py",
   "mimetype": "text/x-python",
   "name": "python",
   "nbconvert_exporter": "python",
   "pygments_lexer": "ipython2",
   "version": "2.7.10"
  }
 },
 "nbformat": 4,
 "nbformat_minor": 0
}
