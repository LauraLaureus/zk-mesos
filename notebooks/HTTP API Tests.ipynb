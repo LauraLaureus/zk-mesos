{
 "cells": [
  {
   "cell_type": "markdown",
   "metadata": {},
   "source": [
    "# Apache Mesos HTTP API\n",
    "\n",
    "This notebook will show how to connect to a running Master/Slave and launch commands via a simple `CommandInfo` protocol buffer.\n",
    "\n",
    "The main goal of this notebook is to show how to interact with the new [Mesos HTTP API](https://github.com/apache/mesos/blob/master/docs/scheduler_http_api.md) in Python.\n",
    "\n",
    "## Prerequisites\n",
    "\n",
    "- you have RTFM (link above);\n",
    "- you know how to build/run Apache Mesos locally (see the [Starting Guide](http://mesos.apache.org/gettingstarted/))\n",
    "- you are familiar with Python [Requests](http://www.python-requests.org/en/latest/) framework.\n",
    "\n",
    "## Starting Mesos\n",
    "\n",
    "Nothing unusal here, start ZooKeeper (`zkServer.sh start`) then start Master/Slave:\n",
    "```\n",
    "cd /path/to/mesos/build\n",
    "make -j 4 V=0\n",
    "\n",
    "# Optional, but recommended:\n",
    "make -j 4 V=0 check\n",
    "\n",
    "# If all tests pass:\n",
    "./bin/mesos-master.sh --zk=zk://localhost:2181/mesos/test --work_dir=/tmp/mesos-24 --quorum=1 --port=5051           \n",
    "\n",
    ".... lots of logging here\n",
    "\n",
    "# In another shell:\n",
    "./bin/mesos-slave.sh --master=zk://localhost:2181/mesos/test --work_dir=/tmp/slave --port=5055\n",
    "```\n",
    "\n",
    "Then navigate to the [Mesos Web UI](http://localhost:5051) and make sure all it's working just fine.\n",
    "\n",
    "If the above doesn't work, it's unlikely that anything in the following ever will.\n",
    "\n",
    "## Python Virtualenv\n",
    "\n",
    "I always strongly recommend that folks use virtual environments when messing around with Python and installing libraries - feel free to skip this, but if you end up borking your system... **you have been warned**.\n",
    "\n",
    "Create a `requirements.txt` file with the following contents:\n",
    "```\n",
    "doctools==0.2.2\n",
    "docutils==0.12\n",
    "ipython==3.1.0\n",
    "itsdangerous==0.24\n",
    "Jinja2==2.7.3\n",
    "pyzmq==14.6.0\n",
    "requests==2.7.0\n",
    "sh==1.11\n",
    "simplejson==3.6.5\n",
    "six==1.9.0\n",
    "stevedore==1.4.0\n",
    "tornado==4.1\n",
    "urllib3==1.10.4\n",
    "virtualenv==12.1.1\n",
    "virtualenv-clone==0.2.5\n",
    "virtualenvwrapper==4.5.0\n",
    "Werkzeug==0.10.4\n",
    "```\n",
    "\n",
    "My actual `dev` virtualenv has a lot more stuff, but the above should be sufficient to get you going (and probably need strictly even less than that - YMMV); most of the dependencies above are for IPython Notebooks.\n",
    "\n",
    "```\n",
    "mkvirtualenv dev\n",
    "pip install -r requirements.txt\n",
    "ipython notebook\n",
    "```\n",
    "Then load this file in your Notebook.\n",
    "\n",
    "Happy hacking!"
   ]
  },
  {
   "cell_type": "markdown",
   "metadata": {},
   "source": [
    "\n",
    "# Common Imports & Useful globals"
   ]
  },
  {
   "cell_type": "code",
   "execution_count": 1,
   "metadata": {
    "collapsed": false
   },
   "outputs": [],
   "source": [
    "# We need to use the magic function %px on every engine when we run in Cluster mode.\n",
    "# See below the note about executing multi-threaded code.\n",
    "from __future__ import print_function\n",
    "\n",
    "import json\n",
    "import os\n",
    "import requests\n",
    "import sh\n",
    "from threading import Thread\n",
    "import time\n",
    "\n",
    "\n",
    "SUBSCRIBE_BODY = {\n",
    "    \"type\": \"SUBSCRIBE\",\n",
    "    \"subscribe\": {\n",
    "        \"framework_info\": {\n",
    "            \"user\" :  \"marco\",\n",
    "            \"name\" :  \"Example HTTP Framework\"\n",
    "        },\n",
    "        \"force\" : True\n",
    "    }\n",
    "}\n",
    "\n",
    "TEARDOWN_BODY = {\n",
    "    \"framework_id\": {\n",
    "        \"value\" : None\n",
    "    },\n",
    "    \"type\": \"TEARDOWN\"\n",
    "}\n",
    "\n",
    "\n",
    "# Adjust the ports according to how you launched Mesos:\n",
    "# see --port in the commands in \"Prerequisites\"\n",
    "MASTER_URL = 'http://localhost:5051'\n",
    "SLAVE_URL = 'http://localhost:5055'\n",
    "API_V1 = '/api/v1/scheduler'\n",
    "API_URL = '{}/{}'.format(MASTER_URL, API_V1)\n",
    "CONTENT = 'application/json'\n",
    "\n",
    "headers = {\n",
    "    \"Content-Type\": CONTENT, \n",
    "    \"Accept\": CONTENT, \n",
    "    \"Connection\": \"close\"\n",
    "}\n",
    "\n",
    "\n",
    "# TODO: THIS IS THREAD-UNSAFE\n",
    "terminate = False\n",
    "offers = []\n",
    "accepted_offer = False\n",
    "framework_id = None"
   ]
  },
  {
   "cell_type": "markdown",
   "metadata": {},
   "source": [
    "## POST helper method\n",
    "\n",
    "This will also be useful when we will need to run on separate kernels."
   ]
  },
  {
   "cell_type": "code",
   "execution_count": 2,
   "metadata": {
    "collapsed": true
   },
   "outputs": [],
   "source": [
    "def post(url, body, **kwargs):\n",
    "    print('Connecting to Master: ' + url)\n",
    "    r = requests.post(url, headers=headers, data=json.dumps(body), **kwargs)\n",
    "    \n",
    "    if r.status_code not in [200, 202]:\n",
    "        raise ValueError(\"Error sending request: {} - {}\".format(r.status_code, r.text))\n",
    "    if 'stream' in kwargs:\n",
    "        # The streaming format needs some munging:\n",
    "        first_line = True\n",
    "        for line in r.iter_lines():\n",
    "            if first_line:\n",
    "                count_bytes = int(line)\n",
    "                first_line = False\n",
    "                continue\n",
    "            body = json.loads(line[:count_bytes])\n",
    "            count_bytes = int(line[count_bytes:])\n",
    "            if body.get(\"type\") == \"HEARTBEAT\":\n",
    "                continue\n",
    "            # When we get OFFERS we want to see them (and eventually, use them)\n",
    "            if body.get(\"type\") == \"OFFERS\" and not accepted_offer:\n",
    "                print(body.get(\"offers\"))\n",
    "                global offers\n",
    "                offers = body.get(\"offers\")\n",
    "            elif accepted_offer:\n",
    "                # TODO: must send a DECLINE message\n",
    "                pass\n",
    "                \n",
    "            # We need to capture the framework_id to use in subsequent requests.\n",
    "            if body.get(\"type\") == \"SUBSCRIBED\":\n",
    "                global framework_id\n",
    "                framework_id = body.get(\"subscribed\").get(\"framework_id\").get(\"value\")\n",
    "                if framework_id:\n",
    "                    print(\"Framework {} registered with Master at ({})\".format(framework_id, url))\n",
    "            if terminate:\n",
    "                break"
   ]
  },
  {
   "cell_type": "markdown",
   "metadata": {},
   "source": [
    "## Warm up\n",
    "\n",
    "The following code just checks that there is connectivity and the settings are all correct: do not move forward until this run successfully."
   ]
  },
  {
   "cell_type": "code",
   "execution_count": 3,
   "metadata": {
    "collapsed": false
   },
   "outputs": [
    {
     "name": "stdout",
     "output_type": "stream",
     "text": [
      "Mesos version running at 0.25.0\n"
     ]
    }
   ],
   "source": [
    "r = requests.get(\"{}/state.json\".format(MASTER_URL))\n",
    "master_state = r.json()\n",
    "print(\"Mesos version running at {}\".format(master_state[\"version\"]))\n",
    "\n",
    "r = requests.get(\"{}/state.json\".format(SLAVE_URL))\n",
    "slave_state = r.json()\n",
    "\n",
    "# If this is not true, you're in for a world of hurt:\n",
    "assert master_state[\"version\"] == slave_state[\"version\"]\n",
    "\n",
    "def get_framework(index=None, id=None):\n",
    "    if index and id:\n",
    "        raise ValueError(\"Cannot specify both ID and Index\")\n",
    "    r = requests.get(\"{}/state.json\".format(MASTER_URL))\n",
    "    master_state = r.json()\n",
    "    frameworks = master_state.get(\"frameworks\")\n",
    "    if frameworks and isinstance(frameworks, list):\n",
    "        if index is not None and len(frameworks) > index:\n",
    "            return frameworks[index]\n",
    "        elif id:\n",
    "            for framework in frameworks:\n",
    "                if framework.get(\"id\") == id:\n",
    "                    return framework\n",
    "\n",
    "# And right now there ought to be no frameworks:\n",
    "assert get_framework(index=0) is None"
   ]
  },
  {
   "cell_type": "markdown",
   "metadata": {},
   "source": [
    "# Registering a Framework\n",
    "\n",
    "Using the HTTP API requires to run at least two separate threads: one for the \"incoming\" Master messages **to** the Framework (the HTTP connection we opened with the initial `SUBSCRIBE` `POST`) and another **from** the Framework to the Master to actual convey our requests (eg, accepting `OFFER`s).\n",
    "\n",
    "We will be using the `threading` module, as this is I/O-bound and there is no CPU contention; we will run a background thread (`persistent_channel`) to receive messages from Mesos, and will use the main thread to send `requests` to Master.\n",
    "\n",
    "The code in this Notebook **is not thread-safe**; in particular, we don't use any form of locking, as there is no real concern about races over shared data: in real production code, one should obviously protect shared data with suitable `locks` (see the [Python Multithreading documentation](https://docs.python.org/3/library/threading.html) for more details)."
   ]
  },
  {
   "cell_type": "code",
   "execution_count": 4,
   "metadata": {
    "collapsed": false
   },
   "outputs": [
    {
     "name": "stdout",
     "output_type": "stream",
     "text": [
      "Framework ID: None\n",
      "Connecting to Master: http://localhost:5051//api/v1/scheduler\n"
     ]
    }
   ],
   "source": [
    "try:\n",
    "    kwargs = {'stream':True, 'timeout':30}\n",
    "    persistent_channel = Thread(target=post, args=(API_URL, SUBSCRIBE_BODY), kwargs=kwargs)\n",
    "    persistent_channel.daemon = True\n",
    "    persistent_channel.start()\n",
    "    \n",
    "    # We need to retrieve the framework_id:\n",
    "#     while not framework_id:\n",
    "#         time.sleep(3)\n",
    "    \n",
    "    print(\"Framework ID: {}\".format(framework_id))\n",
    "except Exception, ex:\n",
    "    print(\"An error occurred: {}\".format(ex))"
   ]
  },
  {
   "cell_type": "markdown",
   "metadata": {},
   "source": [
    "# Terminating a Framework\n",
    "\n",
    "The request above will keep running forever (but see [Terminating the Request](#terminating) below) until we tear down the framework we just started:"
   ]
  },
  {
   "cell_type": "code",
   "execution_count": 41,
   "metadata": {
    "collapsed": false
   },
   "outputs": [
    {
     "name": "stdout",
     "output_type": "stream",
     "text": [
      "No frameworks to terminate\n"
     ]
    }
   ],
   "source": [
    "framework = get_framework(0)\n",
    "if framework:\n",
    "    fid = framework['id']\n",
    "    body = TEARDOWN_BODY\n",
    "    body['framework_id']['value'] = fid\n",
    "    print(body, json.dumps(body))\n",
    "    print(post(API_URL, body))\n",
    "else:\n",
    "    print(\"No frameworks to terminate\")"
   ]
  },
  {
   "cell_type": "markdown",
   "metadata": {},
   "source": [
    "## <a name=\"terminating\"></a>Terminating the Request"
   ]
  },
  {
   "cell_type": "code",
   "execution_count": 50,
   "metadata": {
    "collapsed": false
   },
   "outputs": [],
   "source": [
    "if persistent_channel.is_alive():\n",
    "    terminate = True"
   ]
  },
  {
   "cell_type": "code",
   "execution_count": 5,
   "metadata": {
    "collapsed": false
   },
   "outputs": [
    {
     "name": "stdout",
     "output_type": "stream",
     "text": [
      "{u'framework_id': {u'value': u'20150820-224310-855746752-5051-17686-0005'}}\n"
     ]
    },
    {
     "data": {
      "text/plain": [
       "(True, False)"
      ]
     },
     "execution_count": 5,
     "metadata": {},
     "output_type": "execute_result"
    }
   ],
   "source": [
    "persistent_channel.is_alive(), terminate"
   ]
  },
  {
   "cell_type": "markdown",
   "metadata": {},
   "source": [
    "# Accepting Offers for Resources\n",
    "\n",
    "We need a tiny amount of resources (0.1 CPU, 32 MB of RAM) to run a simple command on the Slave."
   ]
  },
  {
   "cell_type": "code",
   "execution_count": 6,
   "metadata": {
    "collapsed": false
   },
   "outputs": [
    {
     "name": "stdout",
     "output_type": "stream",
     "text": [
      "{u'offers': [{u'url': {u'path': u'/slave(1)', u'scheme': u'http', u'address': {u'ip': u'192.168.1.51', u'hostname': u'gondor', u'port': 5055}}, u'hostname': u'gondor', u'framework_id': {u'value': u'20150820-224310-855746752-5051-17686-0005'}, u'agent_id': {u'value': u'20150820-125856-855746752-5051-6674-S0'}, u'id': {u'value': u'20150820-224310-855746752-5051-17686-O4'}, u'resources': [{u'type': u'SCALAR', u'scalar': {u'value': 12}, u'role': u'*', u'name': u'cpus'}, {u'type': u'SCALAR', u'scalar': {u'value': 31094}, u'role': u'*', u'name': u'mem'}, {u'type': u'SCALAR', u'scalar': {u'value': 431720}, u'role': u'*', u'name': u'disk'}, {u'ranges': {u'range': [{u'begin': 31000, u'end': 32000}]}, u'type': u'RANGES', u'role': u'*', u'name': u'ports'}]}]}\n",
      "20150820-224310-855746752-5051-17686-0005\n"
     ]
    }
   ],
   "source": [
    "print(framework_id)"
   ]
  },
  {
   "cell_type": "code",
   "execution_count": 7,
   "metadata": {
    "collapsed": false
   },
   "outputs": [
    {
     "name": "stdout",
     "output_type": "stream",
     "text": [
      "{u'offers': [{u'url': {u'path': u'/slave(1)', u'scheme': u'http', u'address': {u'ip': u'192.168.1.51', u'hostname': u'gondor', u'port': 5055}}, u'hostname': u'gondor', u'framework_id': {u'value': u'20150820-224310-855746752-5051-17686-0005'}, u'agent_id': {u'value': u'20150820-125856-855746752-5051-6674-S0'}, u'id': {u'value': u'20150820-224310-855746752-5051-17686-O4'}, u'resources': [{u'type': u'SCALAR', u'scalar': {u'value': 12}, u'role': u'*', u'name': u'cpus'}, {u'type': u'SCALAR', u'scalar': {u'value': 31094}, u'role': u'*', u'name': u'mem'}, {u'type': u'SCALAR', u'scalar': {u'value': 431720}, u'role': u'*', u'name': u'disk'}, {u'ranges': {u'range': [{u'begin': 31000, u'end': 32000}]}, u'type': u'RANGES', u'role': u'*', u'name': u'ports'}]}]}\n"
     ]
    }
   ],
   "source": [
    "print(offers)"
   ]
  },
  {
   "cell_type": "code",
   "execution_count": null,
   "metadata": {
    "collapsed": true
   },
   "outputs": [],
   "source": []
  }
 ],
 "metadata": {
  "kernelspec": {
   "display_name": "Python 2",
   "language": "python",
   "name": "python2"
  },
  "language_info": {
   "codemirror_mode": {
    "name": "ipython",
    "version": 2
   },
   "file_extension": ".py",
   "mimetype": "text/x-python",
   "name": "python",
   "nbconvert_exporter": "python",
   "pygments_lexer": "ipython2",
   "version": "2.7.6"
  }
 },
 "nbformat": 4,
 "nbformat_minor": 0
}
