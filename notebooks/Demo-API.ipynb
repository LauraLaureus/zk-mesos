{
 "cells": [
  {
   "cell_type": "markdown",
   "metadata": {},
   "source": [
    "# Apache Mesos HTTP API\n",
    "\n",
    "This notebook will show how to connect to a running Master/Slave and launch commands via a simple `CommandInfo` protocol buffer.\n",
    "\n",
    "The main goal of this notebook is to show how to interact with the new [Mesos HTTP API](https://github.com/apache/mesos/blob/master/docs/scheduler_http_api.md) in Python.\n",
    "\n",
    "## Prerequisites\n",
    "\n",
    "- you have RTFM (link above);\n",
    "- you know how to build/run Apache Mesos locally (see the [Starting Guide](http://mesos.apache.org/gettingstarted/))\n",
    "- you are familiar with Python [Requests](http://www.python-requests.org/en/latest/) framework.\n",
    "\n",
    "## Starting Mesos\n",
    "\n",
    "### Vagrant Up\n",
    "\n",
    "There is a [`Vagrantfile`](https://github.com/massenz/zk-mesos/blob/develop/vagrant/Vagrantfile) provided in this repository (along with a couple of `provisioning` shell scripts) that will do the needful:\n",
    "\n",
    "```\n",
    "    cd vagrant\n",
    "    vagrant up\n",
    "```\n",
    "\n",
    "### Building Mesos\n",
    "\n",
    "If DYI is more your thing (or prefer to run from `HEAD`) then follow the instructions on the [Getting Started page](http://mesos.apache.org/gettingstarted/) and take it from there.\n",
    "\n",
    "Nothing unusal here, start ZooKeeper (`zkServer.sh start`) then start Master/Agent nodes on `localhost`:\n",
    "```\n",
    "./bin/mesos-master.sh --zk=zk://localhost:2181/mesos/test --work_dir=/tmp/mesos-24 --quorum=1 --port=5051           \n",
    "```\n",
    "\n",
    "and, in another shell:\n",
    "```\n",
    "./bin/mesos-slave.sh --master=zk://localhost:2181/mesos/test --work_dir=/tmp/slave --port=5055\n",
    "```\n",
    "\n",
    "Then navigate to the [Mesos Web UI](http://localhost:5051) and make sure all it's working just fine.\n",
    "If the above doesn't work, it's unlikely that anything in the following ever will.\n",
    "\n",
    "Remember to adjust the Master/Agent URLs accordingly:\n",
    "```\n",
    "# Adjust the ports according to how you launched Mesos:\n",
    "# see --port in the commands in \"Prerequisites\"\n",
    "MASTER_URL = 'http://localhost:5051'\n",
    "SLAVE_URL = 'http://localhost:5055'\n",
    "```\n",
    "\n",
    "(if the above does not work, there may be issues with `hostname` resolution - you may need to update your `/etc/hosts` accordingly - completely outside the scope of this notebook, though).\n",
    "\n",
    "\n",
    "## Python Virtualenv\n",
    "\n",
    "I always strongly recommend that folks use virtual environments when messing around with Python and installing libraries - feel free to skip this, but if you end up borking your system... **you have been warned**.\n",
    "\n",
    "See the `requirements.txt` in this repo.\n",
    "\n",
    "My actual `dev` virtualenv has a lot more stuff, but the above should be sufficient to get you going (and probably need strictly even less than that - YMMV); most of the dependencies above are for IPython Notebooks.\n",
    "\n",
    "```\n",
    "mkvirtualenv dev\n",
    "pip install -r requirements.txt\n",
    "ipython notebook\n",
    "```\n",
    "Then load this file in your Notebook.\n",
    "\n",
    "Happy hacking!"
   ]
  },
  {
   "cell_type": "markdown",
   "metadata": {},
   "source": [
    "\n",
    "# Common Imports & Useful globals"
   ]
  },
  {
   "cell_type": "code",
   "execution_count": 2,
   "metadata": {
    "collapsed": true
   },
   "outputs": [],
   "source": [
    "# We need to use the magic function %px on every engine when we run in Cluster mode.\n",
    "# See below the note about executing multi-threaded code.\n",
    "from __future__ import print_function\n",
    "\n",
    "import json\n",
    "import os\n",
    "import pprint\n",
    "import random\n",
    "import requests\n",
    "import sh\n",
    "from threading import Thread\n",
    "from time import sleep, time\n",
    "\n",
    "\n",
    "SUBSCRIBE_BODY = {\n",
    "    \"type\": \"SUBSCRIBE\",\n",
    "    \"subscribe\": {\n",
    "        \"framework_info\": {\n",
    "            \"user\" :  \"vagrant\",\n",
    "            \"name\" :  \"Example HTTP Framework\"\n",
    "        },\n",
    "        \"force\" : True\n",
    "    }\n",
    "}\n",
    "\n",
    "TEARDOWN_BODY = {\n",
    "    \"framework_id\": {\n",
    "        \"value\" : None\n",
    "    },\n",
    "    \"type\": \"TEARDOWN\"\n",
    "}\n",
    "\n",
    "# Adjust the ports according to how you launched Mesos:\n",
    "# see --port in the commands in \"Prerequisites\"\n",
    "MASTER_URL = 'http://192.168.33.10:5050'\n",
    "SLAVE_URL = 'http://192.168.33.11:5051'\n",
    "API_V1 = '/api/v1/scheduler'\n",
    "API_URL = '{}/{}'.format(MASTER_URL, API_V1)\n",
    "CONTENT = 'application/json'\n",
    "\n",
    "headers = {\n",
    "    \"Content-Type\": CONTENT, \n",
    "    \"Accept\": CONTENT, \n",
    "    \"Connection\": \"close\"\n",
    "}\n",
    "\n",
    "pretty = pprint.PrettyPrinter(indent=2)"
   ]
  },
  {
   "cell_type": "markdown",
   "metadata": {},
   "source": [
    "These are the globals that are used to communicate with the background thread; they are currently **thread-unsafe** and may (or may not - chances of a race are pretty slim here) need to be protected with a `RLock`"
   ]
  },
  {
   "cell_type": "code",
   "execution_count": 3,
   "metadata": {
    "collapsed": true
   },
   "outputs": [],
   "source": [
    "# TODO: THIS IS THREAD-UNSAFE\n",
    "terminate = False\n",
    "offers = []\n",
    "framework_id = None"
   ]
  },
  {
   "cell_type": "markdown",
   "metadata": {},
   "source": [
    "## POST helper method\n",
    "\n",
    "This uses [Request's streaming API](http://www.python-requests.org/en/latest/user/advanced/#chunk-encoded-requests) for the \"chunk-encoded response\"."
   ]
  },
  {
   "cell_type": "code",
   "execution_count": 4,
   "metadata": {
    "collapsed": true
   },
   "outputs": [],
   "source": [
    "def post(url, body, **kwargs):\n",
    "    print('Connecting to Master: ' + url)\n",
    "    r = requests.post(url, headers=headers, data=json.dumps(body), **kwargs)\n",
    "    \n",
    "    if r.status_code not in [200, 202]:\n",
    "        raise ValueError(\"Error sending request: {} - {}\".format(r.status_code, r.text))\n",
    "    if 'stream' in kwargs:\n",
    "        # The streaming format needs some munging:\n",
    "        first_line = True\n",
    "        for line in r.iter_lines():\n",
    "            if first_line:\n",
    "                count_bytes = int(line)\n",
    "                first_line = False\n",
    "                continue\n",
    "            body = json.loads(line[:count_bytes])\n",
    "            count_bytes = int(line[count_bytes:])\n",
    "            if body.get(\"type\") == \"HEARTBEAT\":\n",
    "                continue\n",
    "            # When we get OFFERS we want to see them (and eventually, use them)\n",
    "            if body.get(\"type\") == \"OFFERS\":\n",
    "                global offers\n",
    "                offers = body.get(\"offers\")\n",
    "            # We need to capture the framework_id to use in subsequent requests.\n",
    "            if body.get(\"type\") == \"SUBSCRIBED\":\n",
    "                global framework_id\n",
    "                framework_id = body.get(\"subscribed\").get(\"framework_id\").get(\"value\")\n",
    "                if framework_id:\n",
    "                    print(\"Framework {} registered with Master at ({})\".format(framework_id, url))\n",
    "            if terminate:\n",
    "                return\n",
    "    return r"
   ]
  },
  {
   "cell_type": "markdown",
   "metadata": {},
   "source": [
    "## Warm up\n",
    "\n",
    "The following code just checks that there is connectivity and the settings are all correct: do not move forward until this run successfully."
   ]
  },
  {
   "cell_type": "code",
   "execution_count": 5,
   "metadata": {
    "collapsed": false
   },
   "outputs": [
    {
     "name": "stdout",
     "output_type": "stream",
     "text": [
      "Mesos version running at 0.24.1\n"
     ]
    }
   ],
   "source": [
    "r = requests.get(\"{}/state.json\".format(MASTER_URL))\n",
    "master_state = r.json()\n",
    "print(\"Mesos version running at {}\".format(master_state[\"version\"]))\n",
    "\n",
    "r = requests.get(\"{}/state.json\".format(SLAVE_URL))\n",
    "slave_state = r.json()\n",
    "\n",
    "# If this is not true, you're in for a world of hurt:\n",
    "assert master_state[\"version\"] == slave_state[\"version\"]\n",
    "\n",
    "def get_framework(index=None, id=None):\n",
    "    if index and id:\n",
    "        raise ValueError(\"Cannot specify both ID and Index\")\n",
    "    r = requests.get(\"{}/state.json\".format(MASTER_URL))\n",
    "    master_state = r.json()\n",
    "    frameworks = master_state.get(\"frameworks\")\n",
    "    if frameworks and isinstance(frameworks, list):\n",
    "        if index is not None and len(frameworks) > index:\n",
    "            return frameworks[index]\n",
    "        elif id:\n",
    "            for framework in frameworks:\n",
    "                if framework.get(\"id\") == id:\n",
    "                    return framework\n",
    "\n",
    "# And right now there ought to be no frameworks:\n",
    "assert get_framework(index=0) is None"
   ]
  },
  {
   "cell_type": "markdown",
   "metadata": {},
   "source": [
    "# Registering a Framework\n",
    "\n",
    "Using the HTTP API requires to run at least two separate threads: one for the \"incoming\" Master messages **to** the Framework (the HTTP connection we opened with the initial `SUBSCRIBE` `POST`) and another **from** the Framework to the Master to actual convey our requests (eg, accepting `OFFER`s).\n",
    "\n",
    "We will be using the `threading` module, as this is I/O-bound and there is no CPU contention; we will run a background thread (`persistent_channel`) to receive messages from Mesos, and will use the main thread to send `requests` to Master.\n",
    "\n",
    "The code in this Notebook **is not thread-safe**; in particular, we don't use any form of locking, as there is no real concern about races over shared data: in real production code, one should obviously protect shared data with suitable `locks` (see the [Python Multithreading documentation](https://docs.python.org/3/library/threading.html) for more details)."
   ]
  },
  {
   "cell_type": "code",
   "execution_count": 36,
   "metadata": {
    "collapsed": false
   },
   "outputs": [
    {
     "name": "stdout",
     "output_type": "stream",
     "text": [
      "Connecting to Master: http://192.168.33.10:5050//api/v1/scheduler\n",
      "The background channel was started to http://192.168.33.10:5050//api/v1/scheduler\n"
     ]
    }
   ],
   "source": [
    "try:\n",
    "    kwargs = {'stream':True, 'timeout':30}\n",
    "    persistent_channel = Thread(target=post, args=(API_URL, SUBSCRIBE_BODY), kwargs=kwargs)\n",
    "    persistent_channel.daemon = True\n",
    "    persistent_channel.start()\n",
    "    print(\"The background channel was started to {}\".format(API_URL))\n",
    "except Exception, ex:\n",
    "    print(\"An error occurred: {}\".format(ex))"
   ]
  },
  {
   "cell_type": "markdown",
   "metadata": {},
   "source": [
    "# Terminating a Framework\n",
    "\n",
    "The request above will keep running forever (but see [Terminating the Request](#terminating) below) until we tear down the framework we just started:"
   ]
  },
  {
   "cell_type": "code",
   "execution_count": 37,
   "metadata": {
    "collapsed": false
   },
   "outputs": [
    {
     "name": "stdout",
     "output_type": "stream",
     "text": [
      "Framework 20150929-041202-169978048-5050-1794-0008 registered with Master at (http://192.168.33.10:5050//api/v1/scheduler)\n"
     ]
    }
   ],
   "source": [
    "def terminate_framework(fid=None):\n",
    "    if not fid:\n",
    "        framework = get_framework(0)\n",
    "        if framework:\n",
    "            fid = framework['id']\n",
    "        else:\n",
    "            print(\"No frameworks to terminate\")\n",
    "    body = TEARDOWN_BODY\n",
    "    body['framework_id']['value'] = fid\n",
    "    post(API_URL, body)"
   ]
  },
  {
   "cell_type": "markdown",
   "metadata": {},
   "source": [
    "## <a name=\"terminating\"></a>Terminating the Request\n",
    "\n",
    "The following is a \"best effort\" to close the running background thread that keeps the connection with Master alive: this actually only works if the Master keeps sending HEARTBEAT messages (so, on the next loop iteration `terminate` gets checked).\n",
    "\n",
    "In theory, the `timeout` passed at start should prevent the thread to become unresponsive if no more messages are processed, but this does not necessarily seem to always be the case.\n",
    "\n",
    "If all else fails, restarting the IPython kernel seems to be the only (unsatisfactory) solution."
   ]
  },
  {
   "cell_type": "code",
   "execution_count": 8,
   "metadata": {
    "collapsed": true
   },
   "outputs": [],
   "source": [
    "def close_channel():\n",
    "    if persistent_channel.is_alive():\n",
    "        terminate = True\n",
    "        \n",
    "    framework_id = None\n",
    "    offers = None\n",
    "        \n",
    "    # Wait a bit...\n",
    "    sleep(5)\n",
    "    print(\"Channel was closed: {}\".format(persistent_channel.is_alive()))"
   ]
  },
  {
   "cell_type": "code",
   "execution_count": 35,
   "metadata": {
    "collapsed": false
   },
   "outputs": [
    {
     "name": "stdout",
     "output_type": "stream",
     "text": [
      "Connecting to Master: http://192.168.33.10:5050//api/v1/scheduler\n",
      "Channel was closed: True\n"
     ]
    }
   ],
   "source": [
    "# To close the incoming channel use the following code;\n",
    "# this will also terminate the framework (if still running).\n",
    "\n",
    "# NOTE: Commented out to avoid accidental execution\n",
    "terminate_framework(fid=framework_id)\n",
    "close_channel()\n",
    "\n",
    "#pass"
   ]
  },
  {
   "cell_type": "markdown",
   "metadata": {},
   "source": [
    "# Accepting Offers for Resources\n",
    "\n",
    "We need a tiny amount of resources (0.1 CPU, 32 MB of RAM) to run a simple command on the Slave.\n",
    "\n",
    "## Wait for Offers\n",
    "\n",
    "We need to wait first for the framework to register, then to get resource offers:"
   ]
  },
  {
   "cell_type": "code",
   "execution_count": 38,
   "metadata": {
    "collapsed": false
   },
   "outputs": [
    {
     "name": "stdout",
     "output_type": "stream",
     "text": [
      "Registered a Framework with ID: 20150929-041202-169978048-5050-1794-0008\n",
      "Waiting for offers...\n",
      "Got offers:\n",
      "{ u'offers': [ { u'agent_id': { u'value': u'20150929-041202-169978048-5050-1794-S2'},\n",
      "                 u'framework_id': { u'value': u'20150929-041202-169978048-5050-1794-0007'},\n",
      "                 u'hostname': u'mesos-agent',\n",
      "                 u'id': { u'value': u'20150929-041202-169978048-5050-1794-O27'},\n",
      "                 u'resources': [ { u'name': u'cpus',\n",
      "                                   u'role': u'*',\n",
      "                                   u'scalar': { u'value': 0.5},\n",
      "                                   u'type': u'SCALAR'},\n",
      "                                 { u'name': u'mem',\n",
      "                                   u'role': u'*',\n",
      "                                   u'scalar': { u'value': 100},\n",
      "                                   u'type': u'SCALAR'},\n",
      "                                 { u'name': u'disk',\n",
      "                                   u'role': u'*',\n",
      "                                   u'scalar': { u'value': 10},\n",
      "                                   u'type': u'SCALAR'},\n",
      "                                 { u'name': u'ports',\n",
      "                                   u'ranges': { u'range': [ { u'begin': 31000,\n",
      "                                                              u'end': 32000}]},\n",
      "                                   u'role': u'*',\n",
      "                                   u'type': u'RANGES'}],\n",
      "                 u'url': { u'address': { u'hostname': u'mesos-agent',\n",
      "                                         u'ip': u'192.168.33.11',\n",
      "                                         u'port': 5051},\n",
      "                           u'path': u'/slave(1)',\n",
      "                           u'scheme': u'http'}}]}\n"
     ]
    }
   ],
   "source": [
    "# This code is safe to execute any number of times; it will only try to connect once.\n",
    "# In other words, it's idempotent:\n",
    "\n",
    "count = 0\n",
    "while not framework_id and count < 10:\n",
    "    sleep(3)\n",
    "    print('.', end=\"\")\n",
    "    count += 1\n",
    "    \n",
    "if not framework_id:\n",
    "    print(\"Failed to register, terminating Framework\")\n",
    "    close_channel()\n",
    "else:\n",
    "    print(\"Registered a Framework with ID: {}\".format(framework_id))\n",
    "\n",
    "    print(\"Waiting for offers...\")\n",
    "\n",
    "    count = 0\n",
    "    while not offers and count < 10:\n",
    "        print('.', end=\"\")\n",
    "        sleep(3)\n",
    "        count += 1\n",
    "        \n",
    "    if not offers:\n",
    "        print(\"Failed to obtain resources, terminating Framework\")\n",
    "        terminate_framework(framework_id)\n",
    "        close_channel()\n",
    "    else:\n",
    "        print(\"Got offers:\")\n",
    "        pretty.pprint(offers)"
   ]
  },
  {
   "cell_type": "markdown",
   "metadata": {},
   "source": [
    "## Launch a Task using the given offers\n",
    "\n",
    "We will use a `CommandInfo` protobuf, embedded inside the `Launch` message - you can find them in \n",
    "[`mesos.proto`](https://github.com/apache/mesos/blob/master/include/mesos/v1/mesos.proto#L260) while the full request body will be an [Accept](https://github.com/apache/mesos/blob/master/include/mesos/v1/scheduler/scheduler.proto#L228) message.\n",
    "\n",
    "The following is a simplified version of the `Accept` JSON:"
   ]
  },
  {
   "cell_type": "code",
   "execution_count": 10,
   "metadata": {
    "collapsed": false
   },
   "outputs": [
    {
     "name": "stdout",
     "output_type": "stream",
     "text": [
      "Connecting to Master: http://192.168.33.10:5050//api/v1/scheduler\n",
      "Result: 202\n"
     ]
    }
   ],
   "source": [
    "import time\n",
    "\n",
    "TASK_RESOURCES = [\n",
    "    {   \n",
    "        'name': 'cpus',\n",
    "        'role': '*',\n",
    "        'scalar': {'value': 0.5},\n",
    "        'type': u'SCALAR'\n",
    "    },\n",
    "    {\n",
    "        'name': u'mem',\n",
    "        'role': u'*',\n",
    "        'scalar': {'value': 240},\n",
    "        'type': u'SCALAR'\n",
    "    }\n",
    "]\n",
    "\n",
    "LAUNCH_BODY = {\n",
    "    \"framework_id\": {\n",
    "        \"value\": None\n",
    "    },\n",
    "    \"type\": \"ACCEPT\",\n",
    "    \"accept\": {\n",
    "        \"offer_ids\": [\n",
    "        ],\n",
    "        \"operations\": [\n",
    "            {\n",
    "                \"type\": \"LAUNCH\",\n",
    "                \"launch\": {\n",
    "                    \"task_infos\": [\n",
    "                        {\n",
    "                            \"task_id\": {\"value\": str(int(time.time()))},\n",
    "                            \"agent_id\": {\"value\": None},\n",
    "                            \"name\": \"Launch Simple HTTP Server\",\n",
    "                            \"command\": {\n",
    "                                \"shell\": True,\n",
    "                                \"value\": None\n",
    "                            },\n",
    "                            \"resources\": TASK_RESOURCES\n",
    "                        }\n",
    "                    ]\n",
    "                }\n",
    "            }\n",
    "        ]\n",
    "    }\n",
    "}\n",
    "\n",
    "LAUNCH_BODY[\"accept\"][\"offer_ids\"].append(offers.get('offers')[0]['id'])\n",
    "LAUNCH_BODY[\"framework_id\"][\"value\"] = framework_id\n",
    "LAUNCH_BODY[\"accept\"][\"operations\"][0][\"launch\"][\"task_infos\"][0][\"command\"][\"value\"] = \\\n",
    "    \"cd /var/local/www && /usr/bin/python -m SimpleHTTPServer 9000\"\n",
    "LAUNCH_BODY[\"accept\"][\"operations\"][0][\"launch\"][\"task_infos\"][0][\"agent_id\"][\"value\"] = \\\n",
    "    offers.get('offers')[0]['agent_id']['value']\n",
    "    \n",
    "try:\n",
    "    r = post(API_URL, LAUNCH_BODY)\n",
    "    print(\"Result: {}\".format(r.status_code))\n",
    "    if r.text:\n",
    "        print(r.text)\n",
    "except ValueError, err:\n",
    "    print(\"Request failed: {}\".format(err))"
   ]
  },
  {
   "cell_type": "markdown",
   "metadata": {},
   "source": [
    "## Launching a Container\n",
    "\n",
    "To launch a container, we need a slightly more convoluted form of the `LAUNCH` request: this is in the [container.json](https://github.com/massenz/zk-mesos/blob/develop/resources/container.json) file: we can read that in and then update those fields that are specific to the framework/offer.\n",
    "\n",
    "```\n",
    "{\n",
    "  \"framework_id\": {\n",
    "    \"value\": ## put the framework_id here ##\n",
    "  },\n",
    "  \"type\": \"ACCEPT\",\n",
    "  \"accept\": {\n",
    "    \"offer_ids\": [\n",
    "        ## We'll need to append the offer_id here ##\n",
    "    ],\n",
    "    \"operations\": [\n",
    "      {\n",
    "        \"type\": \"LAUNCH\",\n",
    "        \"launch\": {\n",
    "          \"task_infos\": [\n",
    "            {\n",
    "              \"name\": \"PingContainer\",\n",
    "              \"agent_id\": {\n",
    "                \"value\": ## This is the ID of the agent, from the offer ##\n",
    "              },\n",
    "              \"task_id\": {\n",
    "                \"value\": ## This is an arbitrary ID for the task, must be unique ##\n",
    "              },\n",
    "              \"command\": {\n",
    "                \"shell\": true,\n",
    "                \"value\": \"ping -t 100 google.com\"  <<-- we can ask the container to run a command\n",
    "              },\n",
    "              \"container\": {\n",
    "                \"docker\": {\n",
    "                  \"image\": \"busybox\", <<-- this is the name of the container\n",
    "                  \"network\": \"HOST\",\n",
    "                  \"privileged\": false\n",
    "                },\n",
    "                \"type\": \"DOCKER\"  <<-- here we ask Mesos to use Docker\n",
    "                                    -- remember to start the slave with --containerizer=docker\n",
    "              },\n",
    "              ...\n",
    "          }\n",
    "        ]\n",
    "      }\n",
    "      ...\n",
    " }\n",
    " ```\n",
    "\n",
    "In order for this to work, the Agent needs to be launched with the `--containerizer=docker,mesos` option (see\n",
    "[here](http://mesos.apache.org/documentation/latest/docker-containerizer/)).\n",
    " \n",
    "### Mesos Sandbox\n",
    " \n",
    "Because the `CommandInfo` also specifies a `tarball` to be downloaded and extracted, this will be placed into the \"Mesos Sandbox Directory\": this is typically defined by the `MESOS_SANDBOX_DIRECTORY` OS env variable; however, in our case, as this needs to be known in advance (so we can `cd` to it and serve static files from) we will configure that via the `--mesos_sandbox` flag, when starting the Agent node.\n",
    " \n",
    "In a less contrived situation (read: when you do this for real) one would obviously use either the dynamically set value, or symlink to it from whereve that needs to be."
   ]
  },
  {
   "cell_type": "code",
   "execution_count": 39,
   "metadata": {
    "collapsed": false
   },
   "outputs": [
    {
     "name": "stdout",
     "output_type": "stream",
     "text": [
      "Sending ACCEPT message, launching a DOCKER container:\n",
      "{ u'accept': { u'filters': { u'refuse_seconds': 5},\n",
      "               u'offer_ids': [ { u'value': u'20150929-041202-169978048-5050-1794-O28'}],\n",
      "               u'operations': [ { u'launch': { u'task_infos': [ { u'agent_id': { u'value': u'20150929-041202-169978048-5050-1794-S2'},\n",
      "                                                                  u'command': { u'shell': True,\n",
      "                                                                                u'uris': [ { u'extract': True,\n",
      "                                                                                             u'value': u'http://192.168.33.1:9000/content.tar.gz'}],\n",
      "                                                                                u'value': u'python -m SimpleHTTPServer 9090'},\n",
      "                                                                  u'container': { u'docker': { u'image': u'python:2.7',\n",
      "                                                                                               u'network': u'HOST',\n",
      "                                                                                               u'privileged': False},\n",
      "                                                                                  u'type': u'DOCKER'},\n",
      "                                                                  u'name': u'PingContainer',\n",
      "                                                                  u'resources': [ { u'name': u'cpus',\n",
      "                                                                                    u'role': u'*',\n",
      "                                                                                    u'scalar': { u'value': 0.5},\n",
      "                                                                                    u'type': u'SCALAR'},\n",
      "                                                                                  { u'name': u'mem',\n",
      "                                                                                    u'role': u'*',\n",
      "                                                                                    u'scalar': { u'value': 100},\n",
      "                                                                                    u'type': u'SCALAR'},\n",
      "                                                                                  { u'name': u'disk',\n",
      "                                                                                    u'role': u'*',\n",
      "                                                                                    u'scalar': { u'value': 10},\n",
      "                                                                                    u'type': u'SCALAR'}],\n",
      "                                                                  u'task_id': { u'value': '51'}}]},\n",
      "                                  u'type': u'LAUNCH'}]},\n",
      "  u'framework_id': { u'value': u'20150929-041202-169978048-5050-1794-0008'},\n",
      "  u'type': u'ACCEPT'}\n",
      "Connecting to Master: http://192.168.33.10:5050//api/v1/scheduler\n",
      "Result: 202\n"
     ]
    },
    {
     "name": "stderr",
     "output_type": "stream",
     "text": [
      "Exception in thread Thread-3:\n",
      "Traceback (most recent call last):\n",
      "  File \"/System/Library/Frameworks/Python.framework/Versions/2.7/lib/python2.7/threading.py\", line 810, in __bootstrap_inner\n",
      "    self.run()\n",
      "  File \"/System/Library/Frameworks/Python.framework/Versions/2.7/lib/python2.7/threading.py\", line 763, in run\n",
      "    self.__target(*self.__args, **self.__kwargs)\n",
      "  File \"<ipython-input-4-fd821fa5a643>\", line 10, in post\n",
      "    for line in r.iter_lines():\n",
      "  File \"/Users/marco/Library/Developer/local/bin/env/mesos-http/lib/python2.7/site-packages/requests/models.py\", line 715, in iter_lines\n",
      "    for chunk in self.iter_content(chunk_size=chunk_size, decode_unicode=decode_unicode):\n",
      "  File \"/Users/marco/Library/Developer/local/bin/env/mesos-http/lib/python2.7/site-packages/requests/models.py\", line 673, in generate\n",
      "    for chunk in self.raw.stream(chunk_size, decode_content=True):\n",
      "  File \"/Users/marco/Library/Developer/local/bin/env/mesos-http/lib/python2.7/site-packages/requests/packages/urllib3/response.py\", line 303, in stream\n",
      "    for line in self.read_chunked(amt, decode_content=decode_content):\n",
      "  File \"/Users/marco/Library/Developer/local/bin/env/mesos-http/lib/python2.7/site-packages/requests/packages/urllib3/response.py\", line 447, in read_chunked\n",
      "    self._update_chunk_length()\n",
      "  File \"/Users/marco/Library/Developer/local/bin/env/mesos-http/lib/python2.7/site-packages/requests/packages/urllib3/response.py\", line 394, in _update_chunk_length\n",
      "    line = self._fp.fp.readline()\n",
      "  File \"/System/Library/Frameworks/Python.framework/Versions/2.7/lib/python2.7/socket.py\", line 451, in readline\n",
      "    data = self._sock.recv(self._rbufsize)\n",
      "timeout: timed out\n",
      "\n",
      "Exception in thread Thread-6:\n",
      "Traceback (most recent call last):\n",
      "  File \"/System/Library/Frameworks/Python.framework/Versions/2.7/lib/python2.7/threading.py\", line 810, in __bootstrap_inner\n",
      "    self.run()\n",
      "  File \"/System/Library/Frameworks/Python.framework/Versions/2.7/lib/python2.7/threading.py\", line 763, in run\n",
      "    self.__target(*self.__args, **self.__kwargs)\n",
      "  File \"<ipython-input-4-fd821fa5a643>\", line 10, in post\n",
      "    for line in r.iter_lines():\n",
      "  File \"/Users/marco/Library/Developer/local/bin/env/mesos-http/lib/python2.7/site-packages/requests/models.py\", line 715, in iter_lines\n",
      "    for chunk in self.iter_content(chunk_size=chunk_size, decode_unicode=decode_unicode):\n",
      "  File \"/Users/marco/Library/Developer/local/bin/env/mesos-http/lib/python2.7/site-packages/requests/models.py\", line 673, in generate\n",
      "    for chunk in self.raw.stream(chunk_size, decode_content=True):\n",
      "  File \"/Users/marco/Library/Developer/local/bin/env/mesos-http/lib/python2.7/site-packages/requests/packages/urllib3/response.py\", line 303, in stream\n",
      "    for line in self.read_chunked(amt, decode_content=decode_content):\n",
      "  File \"/Users/marco/Library/Developer/local/bin/env/mesos-http/lib/python2.7/site-packages/requests/packages/urllib3/response.py\", line 447, in read_chunked\n",
      "    self._update_chunk_length()\n",
      "  File \"/Users/marco/Library/Developer/local/bin/env/mesos-http/lib/python2.7/site-packages/requests/packages/urllib3/response.py\", line 394, in _update_chunk_length\n",
      "    line = self._fp.fp.readline()\n",
      "  File \"/System/Library/Frameworks/Python.framework/Versions/2.7/lib/python2.7/socket.py\", line 451, in readline\n",
      "    data = self._sock.recv(self._rbufsize)\n",
      "timeout: timed out\n",
      "\n",
      "Exception in thread Thread-5:\n",
      "Traceback (most recent call last):\n",
      "  File \"/System/Library/Frameworks/Python.framework/Versions/2.7/lib/python2.7/threading.py\", line 810, in __bootstrap_inner\n",
      "    self.run()\n",
      "  File \"/System/Library/Frameworks/Python.framework/Versions/2.7/lib/python2.7/threading.py\", line 763, in run\n",
      "    self.__target(*self.__args, **self.__kwargs)\n",
      "  File \"<ipython-input-4-fd821fa5a643>\", line 10, in post\n",
      "    for line in r.iter_lines():\n",
      "  File \"/Users/marco/Library/Developer/local/bin/env/mesos-http/lib/python2.7/site-packages/requests/models.py\", line 715, in iter_lines\n",
      "    for chunk in self.iter_content(chunk_size=chunk_size, decode_unicode=decode_unicode):\n",
      "  File \"/Users/marco/Library/Developer/local/bin/env/mesos-http/lib/python2.7/site-packages/requests/models.py\", line 673, in generate\n",
      "    for chunk in self.raw.stream(chunk_size, decode_content=True):\n",
      "  File \"/Users/marco/Library/Developer/local/bin/env/mesos-http/lib/python2.7/site-packages/requests/packages/urllib3/response.py\", line 303, in stream\n",
      "    for line in self.read_chunked(amt, decode_content=decode_content):\n",
      "  File \"/Users/marco/Library/Developer/local/bin/env/mesos-http/lib/python2.7/site-packages/requests/packages/urllib3/response.py\", line 447, in read_chunked\n",
      "    self._update_chunk_length()\n",
      "  File \"/Users/marco/Library/Developer/local/bin/env/mesos-http/lib/python2.7/site-packages/requests/packages/urllib3/response.py\", line 394, in _update_chunk_length\n",
      "    line = self._fp.fp.readline()\n",
      "  File \"/System/Library/Frameworks/Python.framework/Versions/2.7/lib/python2.7/socket.py\", line 451, in readline\n",
      "    data = self._sock.recv(self._rbufsize)\n",
      "timeout: timed out\n",
      "\n",
      "Exception in thread Thread-4:\n",
      "Traceback (most recent call last):\n",
      "  File \"/System/Library/Frameworks/Python.framework/Versions/2.7/lib/python2.7/threading.py\", line 810, in __bootstrap_inner\n",
      "    self.run()\n",
      "  File \"/System/Library/Frameworks/Python.framework/Versions/2.7/lib/python2.7/threading.py\", line 763, in run\n",
      "    self.__target(*self.__args, **self.__kwargs)\n",
      "  File \"<ipython-input-4-fd821fa5a643>\", line 10, in post\n",
      "    for line in r.iter_lines():\n",
      "  File \"/Users/marco/Library/Developer/local/bin/env/mesos-http/lib/python2.7/site-packages/requests/models.py\", line 715, in iter_lines\n",
      "    for chunk in self.iter_content(chunk_size=chunk_size, decode_unicode=decode_unicode):\n",
      "  File \"/Users/marco/Library/Developer/local/bin/env/mesos-http/lib/python2.7/site-packages/requests/models.py\", line 673, in generate\n",
      "    for chunk in self.raw.stream(chunk_size, decode_content=True):\n",
      "  File \"/Users/marco/Library/Developer/local/bin/env/mesos-http/lib/python2.7/site-packages/requests/packages/urllib3/response.py\", line 303, in stream\n",
      "    for line in self.read_chunked(amt, decode_content=decode_content):\n",
      "  File \"/Users/marco/Library/Developer/local/bin/env/mesos-http/lib/python2.7/site-packages/requests/packages/urllib3/response.py\", line 447, in read_chunked\n",
      "    self._update_chunk_length()\n",
      "  File \"/Users/marco/Library/Developer/local/bin/env/mesos-http/lib/python2.7/site-packages/requests/packages/urllib3/response.py\", line 394, in _update_chunk_length\n",
      "    line = self._fp.fp.readline()\n",
      "  File \"/System/Library/Frameworks/Python.framework/Versions/2.7/lib/python2.7/socket.py\", line 451, in readline\n",
      "    data = self._sock.recv(self._rbufsize)\n",
      "timeout: timed out\n",
      "\n"
     ]
    }
   ],
   "source": [
    "DOCKER_JSON = \"../resources/container.json\"\n",
    "\n",
    "with open(DOCKER_JSON) as jsonfile:\n",
    "    lines = jsonfile.readlines()\n",
    "\n",
    "container_launch_info = json.loads(\"\".join(lines))\n",
    "\n",
    "# Need to update the fields that reflect the offer ID / agent ID and a random, unique task ID:\n",
    "task_id = str(random.randint(1, 100))\n",
    "agent_id = offers.get('offers')[0]['agent_id']['value']\n",
    "offer_id = offers.get('offers')[0]['id']\n",
    "\n",
    "container_launch_info[\"framework_id\"][\"value\"] = framework_id\n",
    "\n",
    "accept = container_launch_info[\"accept\"]\n",
    "accept[\"offer_ids\"].append(offer_id)\n",
    "accept[\"operations\"][0][\"launch\"][\"task_infos\"][0][\"agent_id\"][\"value\"] = agent_id\n",
    "accept[\"operations\"][0][\"launch\"][\"task_infos\"][0][\"task_id\"][\"value\"] = task_id\n",
    "\n",
    "\n",
    "#### URIS\n",
    "# $MESOS_SANDBOX\n",
    "# launch agent with --sandbox_directory\n",
    "###\n",
    "\n",
    "print(\"Sending ACCEPT message, launching a DOCKER container:\")\n",
    "pretty.pprint(container_launch_info)\n",
    "\n",
    "try:\n",
    "    r = post(API_URL, container_launch_info)\n",
    "    print(\"Result: {}\".format(r.status_code))\n",
    "    if r.text:\n",
    "        print(r.text)\n",
    "except ValueError, err:\n",
    "    print(\"Request failed: {}\".format(err))"
   ]
  },
  {
   "cell_type": "code",
   "execution_count": null,
   "metadata": {
    "collapsed": true
   },
   "outputs": [],
   "source": []
  }
 ],
 "metadata": {
  "kernelspec": {
   "display_name": "Python 2",
   "language": "python",
   "name": "python2"
  },
  "language_info": {
   "codemirror_mode": {
    "name": "ipython",
    "version": 2
   },
   "file_extension": ".py",
   "mimetype": "text/x-python",
   "name": "python",
   "nbconvert_exporter": "python",
   "pygments_lexer": "ipython2",
   "version": "2.7.10"
  }
 },
 "nbformat": 4,
 "nbformat_minor": 0
}
